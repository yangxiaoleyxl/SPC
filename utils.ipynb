{
 "metadata": {
  "language_info": {
   "codemirror_mode": {
    "name": "ipython",
    "version": 3
   },
   "file_extension": ".py",
   "mimetype": "text/x-python",
   "name": "python",
   "nbconvert_exporter": "python",
   "pygments_lexer": "ipython3",
   "version": "3.6.5-final"
  },
  "orig_nbformat": 2,
  "kernelspec": {
   "name": "python3",
   "display_name": "Python 3.6.5 64-bit ('ProgramData': virtualenv)",
   "metadata": {
    "interpreter": {
     "hash": "19d5effd8ee1311358e509780eb3ba0aa603f088884d2fee5afc3922f78377a9"
    }
   }
  }
 },
 "nbformat": 4,
 "nbformat_minor": 2,
 "cells": [
  {
   "source": [
    "## Basic Widgets\n",
    "- Canvas"
   ],
   "cell_type": "markdown",
   "metadata": {}
  },
  {
   "cell_type": "code",
   "execution_count": null,
   "metadata": {},
   "outputs": [],
   "source": [
    "from tkinter import * \n",
    "\n",
    "root = Tk() \n",
    "\n",
    "# Create a canva and draw a picture \n",
    "C = Canvas(root, bg='Green',\n",
    "        height=250, width=300) \n",
    "line = C.create_line(108, 120, 320, 40, fill='blue') \n",
    "arc = C.create_arc(180, 150, 80, 210, start=0, extent=220, fill='red') \n",
    "oval = C.create_oval(80, 30, 140, 150, fill='yellow')\n",
    "\n",
    "C.pack()  \n",
    "\n",
    "root.mainloop() "
   ]
  },
  {
   "source": [
    "- CheckButton "
   ],
   "cell_type": "markdown",
   "metadata": {}
  },
  {
   "cell_type": "code",
   "execution_count": null,
   "metadata": {},
   "outputs": [],
   "source": [
    "from tkinter import *  \n",
    "\n",
    "root = Tk() \n",
    "root.geometry('300x200') \n",
    "\n",
    "\n",
    "w = Label(root, text='tkinter case', font='60').pack() \n",
    "\n",
    "checkbutton1 = IntVar()\n",
    "checkbutton2 = IntVar() \n",
    "checkbutton3 = IntVar() \n",
    "\n",
    "Btn1 = Checkbutton(root, text='Tutorial', variable=checkbutton1, onvalue=1,offvalue=0, height=2,width=10).pack()  \n",
    "\n",
    "Btn2 = Checkbutton(root, text='TUtorial', variable=checkbutton2,onvalue=1,offvalue=0, height=2,width=10).pack()\n",
    "\n",
    "Btn3 = Checkbutton(root, text='Coureses', variable=checkbutton3,onvalue=1,offvalue=0,height=2,width=19).pack() \n",
    "\n",
    "mainloop() \n",
    "\n"
   ]
  },
  {
   "source": [
    "- Combobox Widget "
   ],
   "cell_type": "markdown",
   "metadata": {}
  },
  {
   "cell_type": "code",
   "execution_count": null,
   "metadata": {},
   "outputs": [],
   "source": [
    "# 下拉菜单  \n",
    "import tkinter as tk\n",
    "from tkinter import  ttk \n",
    "\n",
    "root = tk.Tk() \n",
    "root.title('测试下拉菜单')  \n",
    "root.geometry('400x300')\n",
    "\n",
    "ttk.Label(root, text='选择买入方法', font=(10)).grid(column=0, row=1, padx=10, pady=25) \n",
    "\n",
    "n = tk.StringVar() # 输入的字符串变量\n",
    "monthchoosen = ttk.Combobox(root, width=30, textvariable=n)\n",
    "\n",
    "monthchoosen['value'] = (\n",
    "    '等差数列','二阶等差数列','等比数列'\n",
    ")\n",
    "\n",
    "monthchoosen.grid(column=1, row=1)\n",
    "monthchoosen.current(0)  # decide the initial value\n",
    "\n",
    "root.mainloop() \n",
    "\n"
   ]
  },
  {
   "source": [
    "- Entry "
   ],
   "cell_type": "markdown",
   "metadata": {}
  },
  {
   "cell_type": "code",
   "execution_count": null,
   "metadata": {},
   "outputs": [],
   "source": [
    "# Make a simple login screen \n",
    "\n",
    "import tkinter as tk \n",
    "\n",
    "root = tk.Tk() \n",
    "root.geometry('400x400') \n",
    "\n",
    "name_var = tk.StringVar() # get the input content, like built-in function \"Input()\"  \n",
    "passw_var = tk.StringVar() \n",
    "\n",
    "def submit():\n",
    "    \n",
    "    name = name_var.get()  # transit the value to variable \"name\" \n",
    "    password = passw_var.get()  # transit the value to variable \"password\"  \n",
    "\n",
    "    print('The name is :' + name) \n",
    "    print('The password is :' + password) \n",
    "\n",
    "    name_var.set('')\n",
    "    passw_var.set('')\n",
    "\n",
    "NameLabel = tk.Label(root, text='姓名:', font=('calibre',10,'bold')).grid(row=0, column=0)\n",
    "NameEntry = tk.Entry(root, textvariable=name_var, font=('calibre',10,'bold')).grid(row=0, column=1) \n",
    "\n",
    "PassLabel = tk.Label(root, text='密码:', font=('calibre',10, 'bold')).grid(row=1, column=0) \n",
    "PassEntry = tk.Entry(root, textvariable=passw_var, font=('calibre',10,'bold'), show='*').grid(row=1, column=1)  # using * to covert the key numbers\n",
    "\n",
    "sub_btn = tk.Button(root, text='登录', command=submit).grid(row=2, column=1)\n",
    "\n",
    "root.mainloop()"
   ]
  },
  {
   "source": [
    "- Text widget"
   ],
   "cell_type": "markdown",
   "metadata": {}
  },
  {
   "cell_type": "code",
   "execution_count": 29,
   "metadata": {},
   "outputs": [],
   "source": [
    "# # insert multiline text fields \n",
    "# import tkinter as tk \n",
    "\n",
    "# root = Tk() \n",
    "# root.geometry('300x200') \n",
    "\n",
    "# T = Text(root, height=5, width=52)\n",
    "# l = Label(root, text='Fact of the Day',font=('Courier',14)).pack() \n",
    "\n",
    "# Fact = \"This is a testing file\"\n",
    "\n",
    "# b1 = Button(root, text='下一个').pack()\n",
    "# b2 = Button(root, text='退出', command=root.destroy).pack()  # destorying the windows by clicking it \n",
    "\n",
    "# T.insert(tk.END, Fact)\n",
    "# root.mainloop()\n",
    "\n",
    "\n",
    "import tkinter as tk \n",
    "root = Tk() \n",
    "\n",
    "# specify size of window. \n",
    "root.geometry(\"250x170\") \n",
    "\n",
    "# Create text widget and specify size. \n",
    "T = Text(root, height = 5, width = 52) \n",
    "\n",
    "# Create label \n",
    "l = Label(root, text = \"Fact of the Day\") \n",
    "l.config(font =(\"Courier\", 14)) \n",
    "\n",
    "Fact = \"\"\"A man can be arrested in \n",
    "Italy for wearing a skirt in public.\"\"\"\n",
    "\n",
    "# Create button for next text. \n",
    "b1 = Button(root, text = \"Next\", ) \n",
    "\n",
    "# Create an Exit button. \n",
    "b2 = Button(root, text = \"Exit\", \n",
    "\t\t\tcommand = root.destroy) \n",
    "\n",
    "l.pack() \n",
    "T.pack() \n",
    "b1.pack() \n",
    "b2.pack() \n",
    "\n",
    "# Insert The Fact. \n",
    "T.insert(tk.END, Fact) \n",
    "\n",
    "tk.mainloop() \n"
   ]
  },
  {
   "cell_type": "code",
   "execution_count": 35,
   "metadata": {},
   "outputs": [
    {
     "output_type": "stream",
     "name": "stdout",
     "text": [
      "120\n"
     ]
    }
   ],
   "source": [
    "# Saving Text and performing operations \n",
    "\n",
    "from tkinter import * \n",
    "\n",
    "root = Tk() \n",
    "root.geometry('300x300') \n",
    "root.title('Q&A') \n",
    "\n",
    "def Take_input():\n",
    "    INPUT = inputtxt.get('1.0', 'end-1c') \n",
    "    print(INPUT)\n",
    "    if(INPUT == '120'):\n",
    "        Output.insert(END, 'Correct')  # if input '120', it is corret\n",
    "    else:\n",
    "        Output.insert(END, \"Wrong Answer\")  # if not 120, it's wrong  \n",
    "\n",
    "l = Label(root, text='what is 24 * 5')\n",
    "inputtxt = Text(root, height=10, width=25, bg='light yellow')\n",
    "Output = Text(root, height=5, width=25, bg='light cyan') # Variable Output will be triggered by \n",
    "Display = Button(root, height=2, width=20, text='Show', command=lambda: Take_input()) \n",
    "\n",
    "l.pack() \n",
    "inputtxt.pack() \n",
    "Output.pack() \n",
    "Display.pack()  \n",
    "\n",
    "root.mainloop()  \n"
   ]
  },
  {
   "source": [
    "- Message  "
   ],
   "cell_type": "markdown",
   "metadata": {}
  },
  {
   "cell_type": "code",
   "execution_count": 37,
   "metadata": {},
   "outputs": [],
   "source": [
    "# Message widget is used to show the message to the user regarding the behavior of the python application \n",
    "\n",
    "from tkinter import *  \n",
    "\n",
    "root = Tk() \n",
    "root.geometry('300x200') \n",
    "\n",
    "w = Label(root, text='GeeksForGeeks', font=60).pack() \n",
    "msg = Message(root, text='A computer science protal for geeks').pack() \n",
    "\n",
    "root.mainloop() \n",
    "\n"
   ]
  },
  {
   "source": [
    "- Menu "
   ],
   "cell_type": "markdown",
   "metadata": {}
  },
  {
   "cell_type": "code",
   "execution_count": 51,
   "metadata": {},
   "outputs": [],
   "source": [
    "from tkinter import * \n",
    "from tkinter.ttk import * \n",
    "from time import strftime \n",
    "\n",
    "root = Tk() \n",
    "root.title() \n",
    "\n",
    "menubar = Menu(root) # initialize \n",
    "\n",
    "# level : Menu -> instance -> cascade -> items of one cascade \n",
    "file = Menu(menubar, tearoff= 0) \n",
    "menubar.add_cascade(label='File', menu=file)  # add down menu (like cascade)\n",
    "file.add_command(label='New File', command=None)  # add items in a cascade\n",
    "file.add_command(label='Open...', command=None) \n",
    "file.add_command(label='Save', command=None) \n",
    "# file.add_command(label='') \n",
    "file.add_separator() \n",
    "file.add_command(label='Exist', command=root.destroy)   \n",
    "\n",
    "edit = Menu(menubar, tearoff=0)  # sub-menu of the toplevel \n",
    "menubar.add_cascade(label='Edit', menu=edit) \n",
    "edit.add_command(label='Toolskits', command=None) \n",
    "edit.add_command(label='zoom in', command=None)\n",
    "edit.add_command(label='zoom out', command=None)  \n",
    "\n",
    "root.config(menu=menubar)   \n",
    "root.mainloop()   \n"
   ]
  },
  {
   "source": [
    "- Progressbar Widget "
   ],
   "cell_type": "markdown",
   "metadata": {}
  },
  {
   "cell_type": "code",
   "execution_count": 54,
   "metadata": {},
   "outputs": [],
   "source": [
    "# Progressbar is to reassure the user that something is happening \n",
    " \n",
    "from tkinter import *  \n",
    "from tkinter.ttk import *  \n",
    "\n",
    "root = Tk()  \n",
    "root.geometry('400x500') \n",
    "\n",
    "progress = Progressbar(root, orient=HORIZONTAL, length=120, mode='determinate') \n",
    "\n",
    "def bar():\n",
    "    import time \n",
    "    progress['value'] = 20 \n",
    "    root.update_idletasks()  \n",
    "    time.sleep(2)  \n",
    "\n",
    "    progress['value'] = 40  \n",
    "    root.update_idletasks()  \n",
    "    time.sleep(2)   \n",
    "        \n",
    "    progress['value'] = 60   \n",
    "    root.update_idletasks()  \n",
    "    time.sleep(2)   \n",
    "\n",
    "    progress['value'] = 80  \n",
    "    root.update_idletasks()  \n",
    "    time.sleep(2)    \n",
    "\n",
    "    progress['value'] = 100 \n",
    "\n",
    "progress.pack(pady=10) \n",
    "Button(root, text='Start', command=bar).pack(pady=10) \n",
    "\n",
    "root.mainloop()\n"
   ]
  }
 ]
}